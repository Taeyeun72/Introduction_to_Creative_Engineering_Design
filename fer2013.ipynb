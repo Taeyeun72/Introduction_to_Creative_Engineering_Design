{
 "cells": [
  {
   "cell_type": "markdown",
   "id": "60b44f19",
   "metadata": {},
   "source": [
    "Import Dataset"
   ]
  },
  {
   "cell_type": "code",
   "execution_count": 1,
   "id": "bc332fc1",
   "metadata": {
    "scrolled": false
   },
   "outputs": [
    {
     "data": {
      "text/html": [
       "<div>\n",
       "<style scoped>\n",
       "    .dataframe tbody tr th:only-of-type {\n",
       "        vertical-align: middle;\n",
       "    }\n",
       "\n",
       "    .dataframe tbody tr th {\n",
       "        vertical-align: top;\n",
       "    }\n",
       "\n",
       "    .dataframe thead th {\n",
       "        text-align: right;\n",
       "    }\n",
       "</style>\n",
       "<table border=\"1\" class=\"dataframe\">\n",
       "  <thead>\n",
       "    <tr style=\"text-align: right;\">\n",
       "      <th></th>\n",
       "      <th>emotion</th>\n",
       "      <th>pixels</th>\n",
       "      <th>Usage</th>\n",
       "    </tr>\n",
       "  </thead>\n",
       "  <tbody>\n",
       "    <tr>\n",
       "      <th>0</th>\n",
       "      <td>0</td>\n",
       "      <td>70 80 82 72 58 58 60 63 54 58 60 48 89 115 121...</td>\n",
       "      <td>Training</td>\n",
       "    </tr>\n",
       "    <tr>\n",
       "      <th>1</th>\n",
       "      <td>0</td>\n",
       "      <td>151 150 147 155 148 133 111 140 170 174 182 15...</td>\n",
       "      <td>Training</td>\n",
       "    </tr>\n",
       "    <tr>\n",
       "      <th>2</th>\n",
       "      <td>2</td>\n",
       "      <td>231 212 156 164 174 138 161 173 182 200 106 38...</td>\n",
       "      <td>Training</td>\n",
       "    </tr>\n",
       "    <tr>\n",
       "      <th>3</th>\n",
       "      <td>4</td>\n",
       "      <td>24 32 36 30 32 23 19 20 30 41 21 22 32 34 21 1...</td>\n",
       "      <td>Training</td>\n",
       "    </tr>\n",
       "    <tr>\n",
       "      <th>4</th>\n",
       "      <td>6</td>\n",
       "      <td>4 0 0 0 0 0 0 0 0 0 0 0 3 15 23 28 48 50 58 84...</td>\n",
       "      <td>Training</td>\n",
       "    </tr>\n",
       "    <tr>\n",
       "      <th>5</th>\n",
       "      <td>2</td>\n",
       "      <td>55 55 55 55 55 54 60 68 54 85 151 163 170 179 ...</td>\n",
       "      <td>Training</td>\n",
       "    </tr>\n",
       "    <tr>\n",
       "      <th>6</th>\n",
       "      <td>4</td>\n",
       "      <td>20 17 19 21 25 38 42 42 46 54 56 62 63 66 82 1...</td>\n",
       "      <td>Training</td>\n",
       "    </tr>\n",
       "    <tr>\n",
       "      <th>7</th>\n",
       "      <td>3</td>\n",
       "      <td>77 78 79 79 78 75 60 55 47 48 58 73 77 79 57 5...</td>\n",
       "      <td>Training</td>\n",
       "    </tr>\n",
       "    <tr>\n",
       "      <th>8</th>\n",
       "      <td>3</td>\n",
       "      <td>85 84 90 121 101 102 133 153 153 169 177 189 1...</td>\n",
       "      <td>Training</td>\n",
       "    </tr>\n",
       "    <tr>\n",
       "      <th>9</th>\n",
       "      <td>2</td>\n",
       "      <td>255 254 255 254 254 179 122 107 95 124 149 150...</td>\n",
       "      <td>Training</td>\n",
       "    </tr>\n",
       "  </tbody>\n",
       "</table>\n",
       "</div>"
      ],
      "text/plain": [
       "   emotion                                             pixels     Usage\n",
       "0        0  70 80 82 72 58 58 60 63 54 58 60 48 89 115 121...  Training\n",
       "1        0  151 150 147 155 148 133 111 140 170 174 182 15...  Training\n",
       "2        2  231 212 156 164 174 138 161 173 182 200 106 38...  Training\n",
       "3        4  24 32 36 30 32 23 19 20 30 41 21 22 32 34 21 1...  Training\n",
       "4        6  4 0 0 0 0 0 0 0 0 0 0 0 3 15 23 28 48 50 58 84...  Training\n",
       "5        2  55 55 55 55 55 54 60 68 54 85 151 163 170 179 ...  Training\n",
       "6        4  20 17 19 21 25 38 42 42 46 54 56 62 63 66 82 1...  Training\n",
       "7        3  77 78 79 79 78 75 60 55 47 48 58 73 77 79 57 5...  Training\n",
       "8        3  85 84 90 121 101 102 133 153 153 169 177 189 1...  Training\n",
       "9        2  255 254 255 254 254 179 122 107 95 124 149 150...  Training"
      ]
     },
     "execution_count": 1,
     "metadata": {},
     "output_type": "execute_result"
    }
   ],
   "source": [
    "import tensorflow as tf\n",
    "import numpy as np\n",
    "import pandas as pd\n",
    "\n",
    "label_map = ['Anger', 'Disgust', 'Fear', 'Happy', 'Sad', 'Surprise', 'Neutral']\n",
    "names=['emotion','pixels','usage']\n",
    "\n",
    "f = pd.read_csv(\"Fer-2013/fer2013.csv\")\n",
    "label = f['emotion']\n",
    "image = f['pixels']\n",
    "f.head(10)"
   ]
  },
  {
   "cell_type": "markdown",
   "id": "eedac6c5",
   "metadata": {},
   "source": [
    "Data Preprocessing"
   ]
  },
  {
   "cell_type": "code",
   "execution_count": 2,
   "id": "6a492ac1",
   "metadata": {},
   "outputs": [],
   "source": [
    "X, Y = [], []\n",
    "for i in range(len(image)):\n",
    "    X.append(list(map(int, image[i].split(' '))))\n",
    "    Y.append(label[i])"
   ]
  },
  {
   "cell_type": "code",
   "execution_count": 3,
   "id": "602ffc9f",
   "metadata": {},
   "outputs": [],
   "source": [
    "X, Y = np.array(X), np.array(Y)\n",
    "N = X.shape[0] # number of data\n",
    "X = X.reshape(N, 48, 48, 1)"
   ]
  },
  {
   "cell_type": "code",
   "execution_count": 4,
   "id": "98f94e10",
   "metadata": {},
   "outputs": [],
   "source": [
    "from sklearn.model_selection import train_test_split\n",
    "x_train, x_test, y_train, y_test = train_test_split(X, Y, test_size = 0.2,\n",
    "                                                    random_state = 0)"
   ]
  },
  {
   "cell_type": "code",
   "execution_count": 5,
   "id": "8d4dae15",
   "metadata": {},
   "outputs": [],
   "source": [
    "x_train, x_test = x_train / 255.0, x_test / 255.0"
   ]
  },
  {
   "cell_type": "markdown",
   "id": "d8f210cb",
   "metadata": {},
   "source": [
    "Deep Learning Model"
   ]
  },
  {
   "cell_type": "code",
   "execution_count": 6,
   "id": "89741ce8",
   "metadata": {},
   "outputs": [
    {
     "name": "stdout",
     "output_type": "stream",
     "text": [
      "Model: \"sequential\"\n",
      "_________________________________________________________________\n",
      " Layer (type)                Output Shape              Param #   \n",
      "=================================================================\n",
      " conv2d (Conv2D)             (None, 46, 46, 32)        320       \n",
      "                                                                 \n",
      " max_pooling2d (MaxPooling2D  (None, 23, 23, 32)       0         \n",
      " )                                                               \n",
      "                                                                 \n",
      " conv2d_1 (Conv2D)           (None, 21, 21, 64)        18496     \n",
      "                                                                 \n",
      " max_pooling2d_1 (MaxPooling  (None, 10, 10, 64)       0         \n",
      " 2D)                                                             \n",
      "                                                                 \n",
      " conv2d_2 (Conv2D)           (None, 8, 8, 128)         73856     \n",
      "                                                                 \n",
      " flatten (Flatten)           (None, 8192)              0         \n",
      "                                                                 \n",
      " dense (Dense)               (None, 64)                524352    \n",
      "                                                                 \n",
      " dropout (Dropout)           (None, 64)                0         \n",
      "                                                                 \n",
      " dense_1 (Dense)             (None, 7)                 455       \n",
      "                                                                 \n",
      "=================================================================\n",
      "Total params: 617,479\n",
      "Trainable params: 617,479\n",
      "Non-trainable params: 0\n",
      "_________________________________________________________________\n"
     ]
    }
   ],
   "source": [
    "from tensorflow.keras import layers, models\n",
    "\n",
    "model = models.Sequential()\n",
    "model.add(layers.Conv2D(32, (3, 3), activation = 'relu', input_shape = (48, 48, 1)))\n",
    "model.add(layers.MaxPooling2D((2, 2)))\n",
    "model.add(layers.Conv2D(64, (3, 3), activation = 'relu'))\n",
    "model.add(layers.MaxPooling2D((2, 2)))\n",
    "model.add(layers.Conv2D(128, (3, 3), activation = 'relu'))\n",
    "\n",
    "model.add(layers.Flatten())\n",
    "model.add(layers.Dense(64, activation = 'relu'))\n",
    "model.add(layers.Dropout(0.5))\n",
    "model.add(layers.Dense(7, activation = 'softmax'))\n",
    "\n",
    "model.summary()"
   ]
  },
  {
   "cell_type": "code",
   "execution_count": 7,
   "id": "e5845767",
   "metadata": {},
   "outputs": [
    {
     "name": "stdout",
     "output_type": "stream",
     "text": [
      "Epoch: 1\n",
      "898/898 [==============================] - 6s 2ms/step - loss: 1.7847 - accuracy: 0.2670\n",
      "225/225 [==============================] - 0s 973us/step - loss: 1.6293 - accuracy: 0.3530\n",
      "Epoch: 2\n",
      "898/898 [==============================] - 1s 2ms/step - loss: 1.6037 - accuracy: 0.3643\n",
      "225/225 [==============================] - 0s 948us/step - loss: 1.5113 - accuracy: 0.3980\n",
      "Epoch: 3\n",
      "898/898 [==============================] - 1s 2ms/step - loss: 1.4838 - accuracy: 0.4196\n",
      "225/225 [==============================] - 0s 955us/step - loss: 1.3635 - accuracy: 0.4795\n",
      "Epoch: 4\n",
      "898/898 [==============================] - 1s 2ms/step - loss: 1.4060 - accuracy: 0.4569\n",
      "225/225 [==============================] - 0s 966us/step - loss: 1.3133 - accuracy: 0.4953\n",
      "Epoch: 5\n",
      "898/898 [==============================] - 1s 2ms/step - loss: 1.3528 - accuracy: 0.4756\n",
      "225/225 [==============================] - 0s 1ms/step - loss: 1.2588 - accuracy: 0.5177\n",
      "Epoch: 6\n",
      "898/898 [==============================] - 1s 2ms/step - loss: 1.3083 - accuracy: 0.4916\n",
      "225/225 [==============================] - 0s 945us/step - loss: 1.2660 - accuracy: 0.5256\n",
      "Epoch: 7\n",
      "898/898 [==============================] - 1s 2ms/step - loss: 1.2620 - accuracy: 0.5117\n",
      "225/225 [==============================] - 0s 934us/step - loss: 1.2250 - accuracy: 0.5371\n",
      "Epoch: 8\n",
      "898/898 [==============================] - 1s 2ms/step - loss: 1.2282 - accuracy: 0.5210\n",
      "225/225 [==============================] - 0s 989us/step - loss: 1.2143 - accuracy: 0.5386\n",
      "Epoch: 9\n",
      "898/898 [==============================] - 1s 2ms/step - loss: 1.1974 - accuracy: 0.5374\n",
      "225/225 [==============================] - 0s 980us/step - loss: 1.2213 - accuracy: 0.5414\n",
      "Epoch: 10\n",
      "898/898 [==============================] - 1s 2ms/step - loss: 1.1489 - accuracy: 0.5531\n",
      "225/225 [==============================] - 0s 922us/step - loss: 1.2240 - accuracy: 0.5369\n",
      "Epoch: 11\n",
      "898/898 [==============================] - 1s 2ms/step - loss: 1.1182 - accuracy: 0.5660\n",
      "225/225 [==============================] - 0s 920us/step - loss: 1.2281 - accuracy: 0.5403\n",
      "Epoch: 12\n",
      "898/898 [==============================] - 1s 2ms/step - loss: 1.0823 - accuracy: 0.5756\n",
      "225/225 [==============================] - 0s 940us/step - loss: 1.2256 - accuracy: 0.5432\n",
      "Epoch: 13\n",
      "898/898 [==============================] - 1s 2ms/step - loss: 1.0459 - accuracy: 0.5898\n",
      "225/225 [==============================] - 0s 887us/step - loss: 1.2389 - accuracy: 0.5400\n",
      "Epoch: 14\n",
      "898/898 [==============================] - 1s 2ms/step - loss: 1.0089 - accuracy: 0.5995\n",
      "225/225 [==============================] - 0s 958us/step - loss: 1.2536 - accuracy: 0.5481\n",
      "Epoch: 15\n",
      "898/898 [==============================] - 1s 2ms/step - loss: 0.9834 - accuracy: 0.6116\n",
      "225/225 [==============================] - 0s 993us/step - loss: 1.2983 - accuracy: 0.5476\n",
      "Epoch: 16\n",
      "898/898 [==============================] - 1s 2ms/step - loss: 0.9597 - accuracy: 0.6206\n",
      "225/225 [==============================] - 0s 927us/step - loss: 1.3078 - accuracy: 0.5366\n",
      "Epoch: 17\n",
      "898/898 [==============================] - 1s 2ms/step - loss: 0.9276 - accuracy: 0.6306\n",
      "225/225 [==============================] - 0s 931us/step - loss: 1.3069 - accuracy: 0.5479\n",
      "Epoch: 18\n",
      "898/898 [==============================] - 1s 2ms/step - loss: 0.9061 - accuracy: 0.6371\n",
      "225/225 [==============================] - 0s 898us/step - loss: 1.3818 - accuracy: 0.5506\n",
      "Epoch: 19\n",
      "898/898 [==============================] - 1s 2ms/step - loss: 0.8764 - accuracy: 0.6460\n",
      "225/225 [==============================] - 0s 960us/step - loss: 1.4106 - accuracy: 0.5461\n",
      "Epoch: 20\n",
      "898/898 [==============================] - 1s 2ms/step - loss: 0.8582 - accuracy: 0.6525\n",
      "225/225 [==============================] - 0s 952us/step - loss: 1.3991 - accuracy: 0.5524\n"
     ]
    }
   ],
   "source": [
    "model.compile(optimizer = 'adam',\n",
    "              loss = 'sparse_categorical_crossentropy',\n",
    "              metrics = ['accuracy'])\n",
    "\n",
    "acc_train = []\n",
    "loss_train = []\n",
    "acc_test = []\n",
    "loss_test = []\n",
    "for i in range(20):\n",
    "    print(\"Epoch: {}\".format(i+1))\n",
    "    history = model.fit(x_train, y_train, epochs = 1)\n",
    "    test = model.evaluate(x_test, y_test)\n",
    "    acc_train.append(history.history['accuracy'][0])\n",
    "    loss_train.append(history.history['loss'][0])\n",
    "    acc_test.append(test[1])\n",
    "    loss_test.append(test[0])"
   ]
  },
  {
   "cell_type": "markdown",
   "id": "a5179745",
   "metadata": {},
   "source": [
    "Train & Test(Validation) Graph"
   ]
  },
  {
   "cell_type": "code",
   "execution_count": 9,
   "id": "146bd553",
   "metadata": {},
   "outputs": [
    {
     "data": {
      "image/png": "[encoded data removed]",
      "text/plain": [
       "<Figure size 640x480 with 1 Axes>"
      ]
     },
     "metadata": {},
     "output_type": "display_data"
    }
   ],
   "source": [
    "import matplotlib.pyplot as plt\n",
    "\n",
    "epochs = range(1, 21)\n",
    "plt.plot(epochs, acc_train, 'b', label = 'Train Accuracy')\n",
    "plt.plot(epochs, acc_test, 'r', label = 'Validation Accuracy')\n",
    "plt.xlabel('epochs')\n",
    "plt.ylabel('accuracy')\n",
    "plt.show()"
   ]
  },
  {
   "cell_type": "code",
   "execution_count": 10,
   "id": "57cebad8",
   "metadata": {
    "scrolled": true
   },
   "outputs": [
    {
     "data": {
      "image/png": "[encoded data removed]",
      "text/plain": [
       "<Figure size 640x480 with 1 Axes>"
      ]
     },
     "metadata": {},
     "output_type": "display_data"
    }
   ],
   "source": [
    "import matplotlib.pyplot as plt\n",
    "\n",
    "epochs = range(1, 21)\n",
    "plt.plot(epochs, loss_train, 'b', label = 'Train Loss')\n",
    "plt.plot(epochs, loss_test, 'r', label = 'Validation Loss')\n",
    "plt.xlabel('epochs')\n",
    "plt.ylabel('loss')\n",
    "plt.show()"
   ]
  },
  {
   "cell_type": "code",
   "execution_count": 13,
   "id": "54f1dd03",
   "metadata": {},
   "outputs": [],
   "source": [
    "# Save Model\n",
    "import h5py\n",
    "\n",
    "model.save('fer2013.h5')\n",
    "\n",
    "# If you want to load:\n",
    "\n",
    "model = tf.keras.models.load_model('fer2013.h5')"
   ]
  },
  {
   "cell_type": "markdown",
   "id": "223aba32",
   "metadata": {},
   "source": [
    "Test(Prediction) (교재 p.274 참고)"
   ]
  },
  {
   "cell_type": "code",
   "execution_count": 22,
   "id": "a3ce65ca",
   "metadata": {},
   "outputs": [
    {
     "data": {
      "image/png": "[encoded data removed]",
      "text/plain": [
       "<Figure size 640x480 with 1 Axes>"
      ]
     },
     "metadata": {},
     "output_type": "display_data"
    },
    {
     "name": "stdout",
     "output_type": "stream",
     "text": [
      "1/1 [==============================] - 0s 10ms/step\n",
      "[[1.88227475e-01 2.75864819e-04 1.36908293e-01 1.00000000e+00\n",
      "  2.97769785e-01 1.08262745e-03 1.09387495e-01]]\n",
      "3\n",
      "Happy\n"
     ]
    }
   ],
   "source": [
    "import cv2 as cv\n",
    "\n",
    "test_image = cv.imread('test05.jpg', cv.IMREAD_GRAYSCALE)\n",
    "im = cv.resize(test_image, (48, 48))\n",
    "im = im.astype('float32')\n",
    "im = 255-im\n",
    "im /= 255.0\n",
    "\n",
    "plt.imshow(im, cmap = 'Greys')\n",
    "plt.show()\n",
    "\n",
    "pred = model.predict(im.reshape(-1, 48, 48, 1))\n",
    "print(pred / np.max(pred))\n",
    "print(pred.argmax())\n",
    "print(label_map[pred.argmax()])"
   ]
  },
  {
   "cell_type": "markdown",
   "id": "cc97a30a",
   "metadata": {},
   "source": [
    "cf) Check CPU & GPU"
   ]
  },
  {
   "cell_type": "code",
   "execution_count": 1,
   "id": "d59b4186",
   "metadata": {},
   "outputs": [
    {
     "name": "stdout",
     "output_type": "stream",
     "text": [
      "[name: \"/device:CPU:0\"\n",
      "device_type: \"CPU\"\n",
      "memory_limit: 268435456\n",
      "locality {\n",
      "}\n",
      "incarnation: 7975355116373150487\n",
      "xla_global_id: -1\n",
      ", name: \"/device:GPU:0\"\n",
      "device_type: \"GPU\"\n",
      "memory_limit: 22388146176\n",
      "locality {\n",
      "  bus_id: 1\n",
      "  links {\n",
      "  }\n",
      "}\n",
      "incarnation: 6794092180754679589\n",
      "physical_device_desc: \"device: 0, name: NVIDIA GeForce RTX 4090, pci bus id: 0000:01:00.0, compute capability: 8.9\"\n",
      "xla_global_id: 416903419\n",
      "]\n"
     ]
    }
   ],
   "source": [
    "from tensorflow.python.client import device_lib\n",
    "\n",
    "print(device_lib.list_local_devices())"
   ]
  },
  {
   "cell_type": "code",
   "execution_count": null,
   "id": "a2f7531e",
   "metadata": {},
   "outputs": [],
   "source": []
  }
 ],
 "metadata": {
  "kernelspec": {
   "display_name": "Python 3 (ipykernel)",
   "language": "python",
   "name": "python3"
  },
  "language_info": {
   "codemirror_mode": {
    "name": "ipython",
    "version": 3
   },
   "file_extension": ".py",
   "mimetype": "text/x-python",
   "name": "python",
   "nbconvert_exporter": "python",
   "pygments_lexer": "ipython3",
   "version": "3.9.13"
  }
 },
 "nbformat": 4,
 "nbformat_minor": 5
}
